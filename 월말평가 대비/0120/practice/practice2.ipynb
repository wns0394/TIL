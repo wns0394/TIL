{
 "cells": [
  {
   "cell_type": "markdown",
   "metadata": {},
   "source": [
    "# Practice 2\n",
    "\n",
    "> 함수"
   ]
  },
  {
   "cell_type": "markdown",
   "metadata": {},
   "source": [
    "## 불쌍한 달팽이\n",
    "\n",
    "> 달팽이는 낮 시간 동안에 기둥을 올라간다. 하지만 밤에는 잠을 자면서 어느 정도의 거리만큼 미끄러진다. (낮 시간 동안 올라간 거리보다는 적게 미끄러진다.)\n",
    "> \n",
    "> 달팽이가 기둥의 꼭대기에 도달하는 날까지 걸리는 시간을 반환하는 함수 `snail()`을 작성하시오.\n",
    "\n",
    "> 함수의 인자는 다음과 같다.\n",
    "1. 기둥의 높이(미터)\n",
    "2. 낮 시간 동안 달팽이가 올라가는 거리(미터)\n",
    "3. 달팽이가 야간에 잠을 자는 동안 미끄러지는 거리(미터)\n",
    "\n",
    "---\n",
    "\n",
    "예시)\n",
    "\n",
    "```python\n",
    "snail(100, 5, 2) #=> 33\n",
    "```"
   ]
  },
  {
   "cell_type": "markdown",
   "metadata": {},
   "source": [
    "엔트리 넘버 1."
   ]
  },
  {
   "cell_type": "code",
   "execution_count": 31,
   "metadata": {
    "scrolled": true
   },
   "outputs": [
    {
     "name": "stdout",
     "output_type": "stream",
     "text": [
      "True\n"
     ]
    }
   ],
   "source": [
    "a = 1\n",
    "if a == True:\n",
    "    print(True)\n",
    "else:\n",
    "    print(False)"
   ]
  },
  {
   "cell_type": "code",
   "execution_count": 32,
   "metadata": {},
   "outputs": [],
   "source": [
    "def snail(height, day, night):\n",
    "    a_day = day - night\n",
    "    days = height // a_day\n",
    "    under = height % a_day\n",
    "    if under == True:\n",
    "        return days + 1\n",
    "    else:\n",
    "        return days"
   ]
  },
  {
   "cell_type": "code",
   "execution_count": 33,
   "metadata": {},
   "outputs": [
    {
     "name": "stdout",
     "output_type": "stream",
     "text": [
      "34\n"
     ]
    }
   ],
   "source": [
    "# 해당 코드를 통해 올바른 결과가 나오는지 확인하시오.\n",
    "print(snail(100, 5, 2))"
   ]
  },
  {
   "cell_type": "markdown",
   "metadata": {},
   "source": [
    "엔트리 넘버 2"
   ]
  },
  {
   "cell_type": "code",
   "execution_count": 40,
   "metadata": {},
   "outputs": [],
   "source": [
    "def snail(height, day, night):  # 기둥 100, 올라가는 거리 5, 내려가는 거리 2\n",
    "    # 마지막 날은 올라가기만 함\n",
    "    height = height - day # 마지막 날 미리 계산\n",
    "    time_taken = height // (day-night) + 1\n",
    "    return time_taken + 1  # 마지막 날도 합침(+1)"
   ]
  },
  {
   "cell_type": "code",
   "execution_count": 41,
   "metadata": {},
   "outputs": [
    {
     "name": "stdout",
     "output_type": "stream",
     "text": [
      "33\n",
      "50\n"
     ]
    }
   ],
   "source": [
    "# 해당 코드를 통해 올바른 결과가 나오는지 확인하시오.\n",
    "print(snail(100, 5, 2))\n",
    "print(snail(100, 4, 2))"
   ]
  },
  {
   "cell_type": "markdown",
   "metadata": {},
   "source": [
    "엔트리 넘버 2-1"
   ]
  },
  {
   "cell_type": "code",
   "execution_count": 42,
   "metadata": {},
   "outputs": [],
   "source": [
    "from math import ceil\n",
    "def snail(height, day, night):  # 기둥 100, 올라가는 거리 5, 내려가는 거리 2\n",
    "    # 마지막 날은 올라가기만 함\n",
    "    height = height - day # 마지막 날 미리 계산\n",
    "    time_taken = ceil(height / (day-night))\n",
    "    \n",
    "    return time_taken + 1  # 마지막 날도 합침(+1)"
   ]
  },
  {
   "cell_type": "code",
   "execution_count": 43,
   "metadata": {},
   "outputs": [
    {
     "name": "stdout",
     "output_type": "stream",
     "text": [
      "33\n",
      "49\n"
     ]
    }
   ],
   "source": [
    "print(snail(100, 5, 2))\n",
    "print(snail(100, 4, 2))"
   ]
  },
  {
   "cell_type": "markdown",
   "metadata": {},
   "source": [
    "엔트리 넘버 3"
   ]
  },
  {
   "cell_type": "code",
   "execution_count": 45,
   "metadata": {},
   "outputs": [],
   "source": [
    "def snail(height, day, night):\n",
    "    return height // (day - night)     "
   ]
  },
  {
   "cell_type": "code",
   "execution_count": 47,
   "metadata": {},
   "outputs": [
    {
     "name": "stdout",
     "output_type": "stream",
     "text": [
      "1\n"
     ]
    }
   ],
   "source": [
    "# 해당 코드를 통해 올바른 결과가 나오는지 확인하시오.\n",
    "print(snail(100, 99, 1))"
   ]
  },
  {
   "cell_type": "markdown",
   "metadata": {},
   "source": [
    "엔트리 넘버 4"
   ]
  },
  {
   "cell_type": "code",
   "execution_count": 48,
   "metadata": {},
   "outputs": [],
   "source": [
    "def snail(height, day, night):\n",
    "    sumday = 0\n",
    "    while height - sumday * day + (sumday-1) * night >= 0:\n",
    "        sumday += 1\n",
    "    return sumday"
   ]
  },
  {
   "cell_type": "code",
   "execution_count": 50,
   "metadata": {},
   "outputs": [
    {
     "name": "stdout",
     "output_type": "stream",
     "text": [
      "33\n",
      "2\n",
      "50\n"
     ]
    }
   ],
   "source": [
    "# 해당 코드를 통해 올바른 결과가 나오는지 확인하시오.\n",
    "print(snail(100, 5, 2))\n",
    "print(snail(100, 99, 1))\n",
    "print(snail(100, 4, 2))"
   ]
  },
  {
   "cell_type": "markdown",
   "metadata": {},
   "source": [
    " "
   ]
  },
  {
   "cell_type": "code",
   "execution_count": 61,
   "metadata": {},
   "outputs": [],
   "source": [
    "def snail(height, day, night):\n",
    "    # 달팽이가 꼭대기에 도달하는 날을 찾기\n",
    "    # 꼭대기에 도달한 그 날을 출력\n",
    "    # 낮동안에 올라고\n",
    "    # 밤이되면 미끄러집니다.\n",
    "    # 하루가 지나겠죠\n",
    "    \n",
    "    # 하루\n",
    "    count = 0\n",
    "    # 하룻동안 올라간 거리\n",
    "    dis = 0\n",
    "    while True:\n",
    "        # 첫날 + 하루씩 지나감...\n",
    "        count += 1\n",
    "        dis += day\n",
    "        # 낮동안 올라가고 난 다음, 내 위치 조사\n",
    "        # 종료 조건\n",
    "        if dis >= height:\n",
    "            # break\n",
    "            # 반환하고 종료\n",
    "            return count\n",
    "        dis -= night\n",
    "        # height -= day\n",
    "        # height += night"
   ]
  },
  {
   "cell_type": "code",
   "execution_count": 63,
   "metadata": {},
   "outputs": [
    {
     "name": "stdout",
     "output_type": "stream",
     "text": [
      "33\n",
      "49\n",
      "2\n"
     ]
    }
   ],
   "source": [
    "# 해당 코드를 통해 올바른 결과가 나오는지 확인하시오.\n",
    "print(snail(100, 5, 2))\n",
    "print(snail(100, 4, 2))\n",
    "print(snail(100, 99, 2))"
   ]
  },
  {
   "cell_type": "markdown",
   "metadata": {},
   "source": [
    "## 자릿수 더하기 (SWEA #2058)\n",
    "\n",
    "> 자연수 number를 입력 받아, 각 자릿수의 합을 계산하여 출력하시오.\n",
    "\n",
    "---\n",
    "\n",
    "예시)\n",
    "\n",
    "```python\n",
    "sum_of_digit(1234) #=> 10\n",
    "sum_of_digit(4321) #=> 10\n",
    "```"
   ]
  },
  {
   "cell_type": "code",
   "execution_count": 70,
   "metadata": {},
   "outputs": [],
   "source": [
    "'''\n",
    "각 자릿수를 알아내야 한다...\n",
    "각 자리수는 어떻게 알지?\n",
    "1234\n",
    "1의 자리 -> 4\n",
    "10의 자리 -> 3 * 10\n",
    "100의자리 -> 2 * 100\n",
    "1000의 자리 -> 1 * 1000\n",
    "\n",
    "반대로 말하면\n",
    "1234를 10으로 나눈 나머지 -> 1의 자리\n",
    "123을 10으로 나눈 나머지 -> 10의 자리\n",
    "12를 10으로 나눈 나머지 -> 100의 자리\n",
    "1을 10으로 나눈 나머지 -> 1000의 자리\n",
    "\n",
    "언제 종료를 해야 하는가?\n",
    "10으로 나누었을때\n",
    "몫이 0 이라면\n",
    "더이상 남은 자리수가 없다...\n",
    "\n",
    "'''\n",
    "def sum_of_digit(number):\n",
    "    # 최종 결과물\n",
    "    result = 0\n",
    "    \n",
    "    # 위에서 생각 한 그 조건,,,\n",
    "    while number / 10:\n",
    "        # 몫과 나머지를 분리\n",
    "        # 주어진 수를 10으로 나눈 나머지 -> 1의 자리수 -> result에 더해 나가기\n",
    "        remainder = number % 10\n",
    "        result += remainder\n",
    "        # 원본 값을 10으로 나눈 몫으로 바꿔치기\n",
    "        number = number // 10 # 1234 // 10 -> 123을 number에 다시 할당\n",
    "    return result"
   ]
  },
  {
   "cell_type": "code",
   "execution_count": 71,
   "metadata": {},
   "outputs": [
    {
     "name": "stdout",
     "output_type": "stream",
     "text": [
      "10\n",
      "10\n"
     ]
    }
   ],
   "source": [
    "# 해당 코드를 통해 올바른 결과가 나오는지 확인하시오.\n",
    "print(sum_of_digit(1234))\n",
    "print(sum_of_digit(4321))"
   ]
  },
  {
   "cell_type": "code",
   "execution_count": 73,
   "metadata": {},
   "outputs": [
    {
     "name": "stdout",
     "output_type": "stream",
     "text": [
      "10\n",
      "10\n"
     ]
    }
   ],
   "source": [
    "# 재귀함수 버젼\n",
    "def sum_of_recursive(number):\n",
    "    # 종료 조건\n",
    "    if number < 10:\n",
    "        return number\n",
    "    else:\n",
    "        # 나머지 구하기\n",
    "        remainder = number % 10\n",
    "        # 원본 숫자는 10으로 나눈 몫만 남기기\n",
    "        number = number // 10\n",
    "        # 위 코드를 반복하기\n",
    "        return sum_of_recursive(number) + remainder\n",
    "\n",
    "print(sum_of_recursive(1234))\n",
    "print(sum_of_recursive(4321))"
   ]
  },
  {
   "cell_type": "code",
   "execution_count": null,
   "metadata": {},
   "outputs": [],
   "source": []
  },
  {
   "cell_type": "code",
   "execution_count": null,
   "metadata": {},
   "outputs": [],
   "source": []
  },
  {
   "cell_type": "code",
   "execution_count": null,
   "metadata": {},
   "outputs": [],
   "source": []
  },
  {
   "cell_type": "code",
   "execution_count": null,
   "metadata": {},
   "outputs": [],
   "source": []
  }
 ],
 "metadata": {
  "kernelspec": {
   "display_name": "Python 3 (ipykernel)",
   "language": "python",
   "name": "python3"
  },
  "language_info": {
   "codemirror_mode": {
    "name": "ipython",
    "version": 3
   },
   "file_extension": ".py",
   "mimetype": "text/x-python",
   "name": "python",
   "nbconvert_exporter": "python",
   "pygments_lexer": "ipython3",
   "version": "3.9.9"
  },
  "toc": {
   "base_numbering": 1,
   "nav_menu": {},
   "number_sections": true,
   "sideBar": true,
   "skip_h1_title": false,
   "title_cell": "Table of Contents",
   "title_sidebar": "Contents",
   "toc_cell": false,
   "toc_position": {},
   "toc_section_display": true,
   "toc_window_display": false
  }
 },
 "nbformat": 4,
 "nbformat_minor": 4
}
